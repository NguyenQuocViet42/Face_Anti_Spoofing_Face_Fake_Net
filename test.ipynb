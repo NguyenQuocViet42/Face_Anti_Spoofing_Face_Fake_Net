{
 "cells": [
  {
   "cell_type": "code",
   "execution_count": 1,
   "metadata": {},
   "outputs": [],
   "source": [
    "import pandas as pd\n",
    "import numpy as np\n",
    "\n",
    "df = pd.read_csv('/media/quocviet/SSD Data/Viet_FAS/CelebA_Spoof/image_preprocessed/annotation/train_annotation.csv')\n",
    "df = df.iloc[:2000]"
   ]
  },
  {
   "cell_type": "code",
   "execution_count": 2,
   "metadata": {},
   "outputs": [],
   "source": [
    "num_samples = df.shape[0]\n",
    "num_samples_first_set = int(num_samples * 0.8)\n",
    "\n",
    "random_indices = np.random.permutation(num_samples)"
   ]
  },
  {
   "cell_type": "code",
   "execution_count": 3,
   "metadata": {},
   "outputs": [
    {
     "data": {
      "text/plain": [
       "array([ 377, 1111, 1583, ..., 1184,  743,  244])"
      ]
     },
     "execution_count": 3,
     "metadata": {},
     "output_type": "execute_result"
    }
   ],
   "source": [
    "random_indices"
   ]
  },
  {
   "cell_type": "code",
   "execution_count": 4,
   "metadata": {},
   "outputs": [],
   "source": [
    "first_set_indices = random_indices[:num_samples_first_set]\n",
    "first_set = df.iloc[first_set_indices]"
   ]
  },
  {
   "cell_type": "code",
   "execution_count": 5,
   "metadata": {},
   "outputs": [],
   "source": [
    "second_set_indices = random_indices[num_samples_first_set:]\n",
    "second_set = df.iloc[second_set_indices]"
   ]
  },
  {
   "cell_type": "code",
   "execution_count": 6,
   "metadata": {},
   "outputs": [],
   "source": [
    "from dataset.MyDataset import MyDataset\n",
    "import torch.utils.data as data\n",
    "import albumentations as A\n",
    "\n",
    "train_transform = A.Compose([\n",
    "    A.Resize(width=240, height=240),\n",
    "    A.RandomSizedCrop([200, 220], height=224, width=224, p=0.4),\n",
    "    A.HorizontalFlip(p=0.5),\n",
    "    A.Rotate(limit=(-10,10), p=0.6),\n",
    "    A.RandomBrightnessContrast(contrast_limit=0.05, brightness_limit=0.05, p=0.75),\n",
    "    # A.RandomBrightness(limit=0.05, p=0.75),\n",
    "    A.CenterCrop(width=224, height=224),\n",
    "])\n",
    "\n",
    "train_dataset = MyDataset(first_set, trans = train_transform)\n",
    "val_dataset = MyDataset(second_set)\n",
    "\n",
    "train_dataloader = data.DataLoader(train_dataset, batch_size = 16, shuffle=True)\n",
    "valid_dataloader = data.DataLoader(val_dataset, batch_size = 16, shuffle=False)"
   ]
  },
  {
   "cell_type": "code",
   "execution_count": 7,
   "metadata": {},
   "outputs": [
    {
     "name": "stderr",
     "output_type": "stream",
     "text": [
      "/media/quocviet/New Volume/Comit/FAS/data/Face_Anti_Spoofing_Face_Fake_Net/dataset/MyDataset.py:52: UserWarning: To copy construct from a tensor, it is recommended to use sourceTensor.clone().detach() or sourceTensor.clone().detach().requires_grad_(True), rather than torch.tensor(sourceTensor).\n",
      "  x = torch.tensor(x, dtype=torch.float32)\n",
      "/media/quocviet/New Volume/Comit/FAS/data/Face_Anti_Spoofing_Face_Fake_Net/dataset/MyDataset.py:53: UserWarning: To copy construct from a tensor, it is recommended to use sourceTensor.clone().detach() or sourceTensor.clone().detach().requires_grad_(True), rather than torch.tensor(sourceTensor).\n",
      "  y = torch.tensor(y, dtype=torch.float32)\n"
     ]
    },
    {
     "name": "stdout",
     "output_type": "stream",
     "text": [
      "torch.Size([16, 3, 224, 224]) torch.Size([16, 10])\n"
     ]
    }
   ],
   "source": [
    "x_batch,y_batch = next(iter(train_dataloader))\n",
    "print(x_batch.shape, y_batch.shape)"
   ]
  },
  {
   "cell_type": "code",
   "execution_count": 11,
   "metadata": {},
   "outputs": [
    {
     "name": "stdout",
     "output_type": "stream",
     "text": [
      "torch.Size([16, 3, 224, 224])\n"
     ]
    },
    {
     "name": "stderr",
     "output_type": "stream",
     "text": [
      "/media/quocviet/New Volume/Comit/FAS/data/Face_Anti_Spoofing_Face_Fake_Net/dataset/MyDataset.py:52: UserWarning: To copy construct from a tensor, it is recommended to use sourceTensor.clone().detach() or sourceTensor.clone().detach().requires_grad_(True), rather than torch.tensor(sourceTensor).\n",
      "  x = torch.tensor(x, dtype=torch.float32)\n",
      "/media/quocviet/New Volume/Comit/FAS/data/Face_Anti_Spoofing_Face_Fake_Net/dataset/MyDataset.py:53: UserWarning: To copy construct from a tensor, it is recommended to use sourceTensor.clone().detach() or sourceTensor.clone().detach().requires_grad_(True), rather than torch.tensor(sourceTensor).\n",
      "  y = torch.tensor(y, dtype=torch.float32)\n"
     ]
    }
   ],
   "source": [
    "for x, y in train_dataloader:\n",
    "    print(x.shape)\n",
    "    break"
   ]
  }
 ],
 "metadata": {
  "kernelspec": {
   "display_name": "base",
   "language": "python",
   "name": "python3"
  },
  "language_info": {
   "codemirror_mode": {
    "name": "ipython",
    "version": 3
   },
   "file_extension": ".py",
   "mimetype": "text/x-python",
   "name": "python",
   "nbconvert_exporter": "python",
   "pygments_lexer": "ipython3",
   "version": "3.11.4"
  },
  "orig_nbformat": 4
 },
 "nbformat": 4,
 "nbformat_minor": 2
}
